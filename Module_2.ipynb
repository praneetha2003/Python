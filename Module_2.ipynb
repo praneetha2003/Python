{
  "nbformat": 4,
  "nbformat_minor": 0,
  "metadata": {
    "colab": {
      "name": "Module 2.ipynb",
      "provenance": [],
      "authorship_tag": "ABX9TyMI8HFZN0V6fQBn69skKEs9",
      "include_colab_link": true
    },
    "kernelspec": {
      "name": "python3",
      "display_name": "Python 3"
    },
    "language_info": {
      "name": "python"
    }
  },
  "cells": [
    {
      "cell_type": "markdown",
      "metadata": {
        "id": "view-in-github",
        "colab_type": "text"
      },
      "source": [
        "<a href=\"https://colab.research.google.com/github/praneetha2003/Python/blob/main/Module_2.ipynb\" target=\"_parent\"><img src=\"https://colab.research.google.com/assets/colab-badge.svg\" alt=\"Open In Colab\"/></a>"
      ]
    },
    {
      "cell_type": "markdown",
      "source": [
        "**Module 2**"
      ],
      "metadata": {
        "id": "gpz4tFu835h8"
      }
    },
    {
      "cell_type": "markdown",
      "source": [
        "**#Create a function which accepts two inputs from the user and compute nCr**\n"
      ],
      "metadata": {
        "id": "jSVFsjTb4Bsf"
      }
    },
    {
      "cell_type": "code",
      "source": [
        "def fact(i):\n",
        " if i>0:\n",
        "  return i*fact(i-1)\n",
        " else:\n",
        "  return 1\n",
        "def comb(n,r):\n",
        " return (fact(n)/((fact(n-r))*fact(r)))\n",
        "a=int(input('a='))\n",
        "b=int(input('b='))\n",
        "comb(a,b)"
      ],
      "metadata": {
        "colab": {
          "base_uri": "https://localhost:8080/"
        },
        "id": "2VZ1cmVT4P_U",
        "outputId": "77307324-4ce3-472a-8868-325b2f7c3c92"
      },
      "execution_count": 3,
      "outputs": [
        {
          "name": "stdout",
          "output_type": "stream",
          "text": [
            "a=5\n",
            "b=3\n"
          ]
        },
        {
          "output_type": "execute_result",
          "data": {
            "text/plain": [
              "10.0"
            ]
          },
          "metadata": {},
          "execution_count": 3
        }
      ]
    },
    {
      "cell_type": "markdown",
      "source": [
        "**#Program to print a specified list after removing the 0th, 4th and 5th elements**\n"
      ],
      "metadata": {
        "id": "l9m9_ULX4yn9"
      }
    },
    {
      "cell_type": "code",
      "source": [
        "my_list=['Red','Green','White','Black','Pink','Yellow']\n",
        "del my_list[0]\n",
        "del my_list[3]\n",
        "del my_list[3]\n",
        "print(my_list)"
      ],
      "metadata": {
        "colab": {
          "base_uri": "https://localhost:8080/"
        },
        "id": "R21KN9k949bD",
        "outputId": "51a95163-dccb-4725-9382-467235033bbf"
      },
      "execution_count": 1,
      "outputs": [
        {
          "output_type": "stream",
          "name": "stdout",
          "text": [
            "['Green', 'White', 'Black']\n"
          ]
        }
      ]
    },
    {
      "cell_type": "markdown",
      "source": [
        "**#Program to get the difference between the two lists.**\n"
      ],
      "metadata": {
        "id": "7ELjZoqcFSzO"
      }
    },
    {
      "cell_type": "code",
      "source": [
        "one_list=[1,4,2,4,2,5,7,5,7,8,4,3,5]\n",
        "other_list=[3,4,5,3,6,3,7,9,2]\n",
        "x=set(one_list)\n",
        "y=set(other_list)\n",
        "z1=x.difference(y)\n",
        "z2=y.difference(x)\n",
        "print(list(z1))\n",
        "print(list(z2))"
      ],
      "metadata": {
        "colab": {
          "base_uri": "https://localhost:8080/"
        },
        "id": "_Yqd_kNVFVzI",
        "outputId": "b79590ed-5933-4357-d453-8c5e8aa5637f"
      },
      "execution_count": 5,
      "outputs": [
        {
          "output_type": "stream",
          "name": "stdout",
          "text": [
            "[8, 1]\n",
            "[9, 6]\n"
          ]
        }
      ]
    },
    {
      "cell_type": "markdown",
      "source": [
        "**#Program to find the second smallest number and second largest number \n",
        "in a list**\n"
      ],
      "metadata": {
        "id": "qbulfO3wFyhv"
      }
    },
    {
      "cell_type": "code",
      "source": [
        "my_list=[4,2,6,1,8,46,987,236,54]\n",
        "my_list.sort()\n",
        "print(my_list)\n",
        "print(\"The second smallest number in the given list is: \",my_list[1])\n",
        "print(\"The second largest number in the given list is: \",my_list[len(my_list)-2])"
      ],
      "metadata": {
        "colab": {
          "base_uri": "https://localhost:8080/"
        },
        "id": "U-scuthPF2uN",
        "outputId": "647ae9fb-f4f5-410e-b814-9f4ece4a770e"
      },
      "execution_count": 6,
      "outputs": [
        {
          "output_type": "stream",
          "name": "stdout",
          "text": [
            "[1, 2, 4, 6, 8, 46, 54, 236, 987]\n",
            "The second smallest number in the given list is:  2\n",
            "The second largest number in the given list is:  236\n"
          ]
        }
      ]
    },
    {
      "cell_type": "markdown",
      "source": [
        "**#Given list of tuples, remove all the tuples with length K.**\n"
      ],
      "metadata": {
        "id": "wsw7cNt-GCjs"
      }
    },
    {
      "cell_type": "code",
      "source": [
        "test_list = [(4, 5), (4, ), (8, 6, 7), (1, ), (3, 4, 6, 7)]\n",
        "new_list=[]\n",
        "K=2\n",
        "for x in test_list:\n",
        " if len(x)!=K:\n",
        "  new_list.append(x)\n",
        "print(\"The filtered list without containing any element of tupple length '2' is:\",new_list)\n"
      ],
      "metadata": {
        "colab": {
          "base_uri": "https://localhost:8080/"
        },
        "id": "71VCoI39GLmr",
        "outputId": "ba53ba2e-91ca-44de-c57a-fe0f4b39bc6f"
      },
      "execution_count": 7,
      "outputs": [
        {
          "output_type": "stream",
          "name": "stdout",
          "text": [
            "The filtered list without containing any element of tupple length '2' is: [(4,), (8, 6, 7), (1,), (3, 4, 6, 7)]\n"
          ]
        }
      ]
    },
    {
      "cell_type": "markdown",
      "source": [
        "**#Given a list of numbers of list, write a Python program to create a \n",
        "list of tuples having first element as the number and second element as the square of the number.**\n"
      ],
      "metadata": {
        "id": "rRGvALJdGlfF"
      }
    },
    {
      "cell_type": "code",
      "source": [
        "no_list=[3,86,4,56,12]\n",
        "result=[(x,x**2) for x in no_list]\n",
        "print(\"The required list is: \",result)\n"
      ],
      "metadata": {
        "colab": {
          "base_uri": "https://localhost:8080/"
        },
        "id": "zuYBppikG_ow",
        "outputId": "8d25d0d9-cc3e-44c2-caca-d746fae30886"
      },
      "execution_count": 8,
      "outputs": [
        {
          "output_type": "stream",
          "name": "stdout",
          "text": [
            "The required list is:  [(3, 9), (86, 7396), (4, 16), (56, 3136), (12, 144)]\n"
          ]
        }
      ]
    },
    {
      "cell_type": "markdown",
      "source": [
        "**#Program to generate and print a dictionary that contains a number \n",
        "(between 1 and n) in the form (x, x*x).**"
      ],
      "metadata": {
        "id": "GZkZUu_KHHNV"
      }
    },
    {
      "cell_type": "code",
      "source": [
        "my_dictionary=dict()\n",
        "x=int(input(\"Enter a number: \"))\n",
        "for i in range(1,x+1):\n",
        " my_dictionary.update({i:i**2})\n",
        "print(\"The obtained dictionary is:\",my_dictionary)"
      ],
      "metadata": {
        "colab": {
          "base_uri": "https://localhost:8080/"
        },
        "id": "hd--1vsRHXV4",
        "outputId": "35fe0d39-0fb6-4e9c-9f8a-cc980ef32072"
      },
      "execution_count": 9,
      "outputs": [
        {
          "output_type": "stream",
          "name": "stdout",
          "text": [
            "Enter a number: 6\n",
            "The obtained dictionary is: {1: 1, 2: 4, 3: 9, 4: 16, 5: 25, 6: 36}\n"
          ]
        }
      ]
    },
    {
      "cell_type": "markdown",
      "source": [
        "**# Program to remove a key from a dictionary**\n"
      ],
      "metadata": {
        "id": "hCqH6ayzH5kK"
      }
    },
    {
      "cell_type": "code",
      "source": [
        "chocolate={\n",
        " 'name':'dairymilk',\n",
        " 'colour':'brown',\n",
        " 'taste':'sweet',\n",
        " 'cost':40\n",
        "}\n",
        "chocolate.pop('taste')\n",
        "print(chocolate)\n",
        "del chocolate['cost']\n",
        "print(chocolate)"
      ],
      "metadata": {
        "colab": {
          "base_uri": "https://localhost:8080/"
        },
        "id": "3p7sVIeyH9DD",
        "outputId": "6d344af0-214e-4928-fe49-11387a92697d"
      },
      "execution_count": 10,
      "outputs": [
        {
          "output_type": "stream",
          "name": "stdout",
          "text": [
            "{'name': 'dairymilk', 'colour': 'brown', 'cost': 40}\n",
            "{'name': 'dairymilk', 'colour': 'brown'}\n"
          ]
        }
      ]
    },
    {
      "cell_type": "markdown",
      "source": [
        "**#Program to get the maximum and minimum value in a dictionary.**"
      ],
      "metadata": {
        "id": "HEzx_pQyIFC-"
      }
    },
    {
      "cell_type": "code",
      "source": [
        "my_dictionary={\n",
        " 'a':56, 'b':65, 'c':34, 'd':23\n",
        " }\n",
        "max_value=max(my_dictionary, key=my_dictionary.get)\n",
        "min_value=min(my_dictionary, key=my_dictionary.get)\n",
        "print(\"The maximum value in the given dictionary has a key:'\"+max_value+\"' and its value is:\",my_dictionary[max_value])\n",
        "print(\"The minimum value in the given dictionary has a key: '\"+min_value+\"' and its value is:\",my_dictionary[min_value])"
      ],
      "metadata": {
        "colab": {
          "base_uri": "https://localhost:8080/"
        },
        "id": "jFOmHgcAILeV",
        "outputId": "6a97f4e1-508c-46c0-90d9-a4fb2980971d"
      },
      "execution_count": 11,
      "outputs": [
        {
          "output_type": "stream",
          "name": "stdout",
          "text": [
            "The maximum value in the given dictionary has a key:'b' and its value is: 65\n",
            "The minimum value in the given dictionary has a key: 'd' and its value is: 23\n"
          ]
        }
      ]
    },
    {
      "cell_type": "markdown",
      "source": [
        "**#Program for Counting occurrence of a certain element in a string, \n",
        "getting indexes that have matching elements.**"
      ],
      "metadata": {
        "id": "ocUxJF3sIUqE"
      }
    },
    {
      "cell_type": "code",
      "source": [
        "str_1=\"Rabbit\"\n",
        "print(str_1.count('b'))\n",
        "str_2=\"I have to go to a doctor and get myself checked.\"\n",
        "print(str_2.count('to'))\n"
      ],
      "metadata": {
        "colab": {
          "base_uri": "https://localhost:8080/"
        },
        "id": "kasN_9QsJDQi",
        "outputId": "d247e537-b212-402e-e17c-a5392d571d12"
      },
      "execution_count": 14,
      "outputs": [
        {
          "output_type": "stream",
          "name": "stdout",
          "text": [
            "2\n",
            "3\n"
          ]
        }
      ]
    },
    {
      "cell_type": "markdown",
      "source": [
        "**#Program for replacing one substring by another For example - Rabbit -\n",
        "Replace 'bb' by 'cc'**\n"
      ],
      "metadata": {
        "id": "9ezyAJSDJT0p"
      }
    },
    {
      "cell_type": "code",
      "source": [
        "string='Rabbit'\n",
        "new_string=string.replace('bb','cc')\n",
        "print(new_string)\n"
      ],
      "metadata": {
        "colab": {
          "base_uri": "https://localhost:8080/"
        },
        "id": "nYNIzFO5Ja-I",
        "outputId": "6f0738eb-d39d-4dcf-d704-f3a910f90f24"
      },
      "execution_count": 15,
      "outputs": [
        {
          "output_type": "stream",
          "name": "stdout",
          "text": [
            "Raccit\n"
          ]
        }
      ]
    },
    {
      "cell_type": "markdown",
      "source": [
        "**#Python function that accepts a string and calculates the number of \n",
        "uppercase letters and lowercase letters.**\n"
      ],
      "metadata": {
        "id": "QDrL7uooJfOn"
      }
    },
    {
      "cell_type": "code",
      "source": [
        "string=\"I Love my country INDIA and I respect it.\"\n",
        "count_1=0\n",
        "count_2=0\n",
        "for i in string:\n",
        " if i.isupper():\n",
        "  count_1+=1\n",
        " elif i.islower():\n",
        "  count_2+=1\n",
        " else:\n",
        "  pass\n",
        "print(\"No.of uppercase alphabets are: \",count_1)\n",
        "print(\"No.of lowercase alphabets are: \",count_2)"
      ],
      "metadata": {
        "colab": {
          "base_uri": "https://localhost:8080/"
        },
        "id": "AKnNtTsZJkXf",
        "outputId": "6d84954e-3c7a-4a7a-8b50-cdda157ac0ca"
      },
      "execution_count": 16,
      "outputs": [
        {
          "output_type": "stream",
          "name": "stdout",
          "text": [
            "No.of uppercase alphabets are:  8\n",
            "No.of lowercase alphabets are:  24\n"
          ]
        }
      ]
    },
    {
      "cell_type": "markdown",
      "source": [
        "**#Program to Acronym generator for any user input**"
      ],
      "metadata": {
        "id": "9k7lB7xJJzIK"
      }
    },
    {
      "cell_type": "code",
      "source": [
        "string=input(\"enter some string:\")\n",
        "a=string.split()\n",
        "for i in a:\n",
        " print(i[0],end='')\n",
        " "
      ],
      "metadata": {
        "colab": {
          "base_uri": "https://localhost:8080/"
        },
        "id": "JYZeFHvPJwyQ",
        "outputId": "952d3c9a-ccf3-4b28-eac3-509d28a29687"
      },
      "execution_count": 19,
      "outputs": [
        {
          "output_type": "stream",
          "name": "stdout",
          "text": [
            "enter some string:praneetha rohith\n",
            "pr"
          ]
        }
      ]
    },
    {
      "cell_type": "markdown",
      "source": [
        "**# Program to count the number of strings where the string length is 2;\n",
        "or more and the first and last character are same;\n",
        "from a given list of strings , Sample List : ['abc', 'xyz', 'aba', \n",
        "'1221'] Expected Result : 2**\n"
      ],
      "metadata": {
        "id": "_591VMfiKEbd"
      }
    },
    {
      "cell_type": "code",
      "source": [
        "Sample_List = ['abc', 'xyz', 'praneetha', \n",
        "'1221','rohith','24','in','lahari']\n",
        "count=0\n",
        "for i in Sample_List:\n",
        " if len(i)>=2:\n",
        "  if i[0]==i[len(i)-1]:\n",
        "   print(i)\n",
        " count+=1\n",
        "print(count)"
      ],
      "metadata": {
        "colab": {
          "base_uri": "https://localhost:8080/"
        },
        "id": "qu7UXv11KT4w",
        "outputId": "e00862b8-018f-4bc5-c79b-b91aa700cf21"
      },
      "execution_count": 21,
      "outputs": [
        {
          "output_type": "stream",
          "name": "stdout",
          "text": [
            "1221\n",
            "8\n"
          ]
        }
      ]
    }
  ]
}