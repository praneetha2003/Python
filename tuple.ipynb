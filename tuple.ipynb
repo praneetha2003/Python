{
  "nbformat": 4,
  "nbformat_minor": 0,
  "metadata": {
    "colab": {
      "name": "tuple.ipynb",
      "provenance": [],
      "authorship_tag": "ABX9TyOJbW8CNYGwbgZHJMb7Dx78",
      "include_colab_link": true
    },
    "kernelspec": {
      "name": "python3",
      "display_name": "Python 3"
    },
    "language_info": {
      "name": "python"
    }
  },
  "cells": [
    {
      "cell_type": "markdown",
      "metadata": {
        "id": "view-in-github",
        "colab_type": "text"
      },
      "source": [
        "<a href=\"https://colab.research.google.com/github/praneetha2003/Python/blob/main/tuple.ipynb\" target=\"_parent\"><img src=\"https://colab.research.google.com/assets/colab-badge.svg\" alt=\"Open In Colab\"/></a>"
      ]
    },
    {
      "cell_type": "markdown",
      "source": [
        "**Tuple**"
      ],
      "metadata": {
        "id": "9Tik5lbtwHO6"
      }
    },
    {
      "cell_type": "code",
      "source": [
        "colours=(\"pink\",\"blue\",\"yellow\",)\n",
        "print(colours)"
      ],
      "metadata": {
        "colab": {
          "base_uri": "https://localhost:8080/"
        },
        "id": "drbgJydDwQ4g",
        "outputId": "9da74504-717c-4ce8-926b-940a6057d37a"
      },
      "execution_count": 1,
      "outputs": [
        {
          "output_type": "stream",
          "name": "stdout",
          "text": [
            "('pink', 'blue', 'yellow')\n"
          ]
        }
      ]
    },
    {
      "cell_type": "markdown",
      "source": [
        "**tuple length**"
      ],
      "metadata": {
        "id": "Xo7WbX44wyCp"
      }
    },
    {
      "cell_type": "code",
      "source": [
        "colours=(\"pink\",\"blue\",\"yellow\",)\n",
        "print(len(colours))"
      ],
      "metadata": {
        "colab": {
          "base_uri": "https://localhost:8080/"
        },
        "id": "o4HsvMFew3GZ",
        "outputId": "80c25b40-b4be-4d6f-9155-f165c9551c7e"
      },
      "execution_count": 3,
      "outputs": [
        {
          "output_type": "stream",
          "name": "stdout",
          "text": [
            "3\n"
          ]
        }
      ]
    },
    {
      "cell_type": "markdown",
      "source": [
        "**type tuple**"
      ],
      "metadata": {
        "id": "l9VxZQ6KxE1h"
      }
    },
    {
      "cell_type": "code",
      "source": [
        "colour=(\"pink\",)\n",
        "print(type(colour))\n",
        "colour=(\"pink\")\n",
        "print(type(colour))"
      ],
      "metadata": {
        "colab": {
          "base_uri": "https://localhost:8080/"
        },
        "id": "9D4jhjjMxJf4",
        "outputId": "a0670b77-0d55-4abb-d424-86e19e78fec6"
      },
      "execution_count": 4,
      "outputs": [
        {
          "output_type": "stream",
          "name": "stdout",
          "text": [
            "<class 'tuple'>\n",
            "<class 'str'>\n"
          ]
        }
      ]
    },
    {
      "cell_type": "markdown",
      "source": [
        "**tuple data**"
      ],
      "metadata": {
        "id": "Gi5VjsRoxn5y"
      }
    },
    {
      "cell_type": "code",
      "source": [
        "colours=(\"pink\",\"blue\",\"yellow\")\n",
        "numbers=(1,2,3,4)\n",
        "tuple3=(True,False,True)\n",
        "print(colours)\n",
        "print(numbers)\n",
        "print(tuple3)"
      ],
      "metadata": {
        "colab": {
          "base_uri": "https://localhost:8080/"
        },
        "id": "En_HjU3Kxrcx",
        "outputId": "bde59078-17db-4d49-d068-97dcc9eec70b"
      },
      "execution_count": 5,
      "outputs": [
        {
          "output_type": "stream",
          "name": "stdout",
          "text": [
            "('pink', 'blue', 'yellow')\n",
            "(1, 2, 3, 4)\n",
            "(True, False, True)\n"
          ]
        }
      ]
    },
    {
      "cell_type": "markdown",
      "source": [
        "**access tuple**"
      ],
      "metadata": {
        "id": "AJ1_ZUoDyqda"
      }
    },
    {
      "cell_type": "code",
      "source": [
        "colours=(\"pink\",\"blue\",\"yellow\")\n",
        "print(colours[2])"
      ],
      "metadata": {
        "colab": {
          "base_uri": "https://localhost:8080/"
        },
        "id": "078pkYcZy9Tw",
        "outputId": "b5d8eae7-cdd2-4cb0-fe4f-93705724e472"
      },
      "execution_count": 8,
      "outputs": [
        {
          "output_type": "stream",
          "name": "stdout",
          "text": [
            "yellow\n"
          ]
        }
      ]
    },
    {
      "cell_type": "markdown",
      "source": [
        "**negative tuple**"
      ],
      "metadata": {
        "id": "GwN5h2sZzUcp"
      }
    },
    {
      "cell_type": "code",
      "source": [
        "colours=(\"pink\",\"blue\",\"yellow\")\n",
        "print(colours[-3])"
      ],
      "metadata": {
        "colab": {
          "base_uri": "https://localhost:8080/"
        },
        "id": "5VRWjEDvzbwA",
        "outputId": "c324eb9a-4f7b-47b1-8e37-aa9d736898cc"
      },
      "execution_count": 10,
      "outputs": [
        {
          "output_type": "stream",
          "name": "stdout",
          "text": [
            "pink\n"
          ]
        }
      ]
    },
    {
      "cell_type": "markdown",
      "source": [
        "**ranging index**"
      ],
      "metadata": {
        "id": "npe9aOu5zlga"
      }
    },
    {
      "cell_type": "code",
      "source": [
        "colours=(\"pink\",\"blue\",\"yellow\",\"orange\",\"red\",\"grey\")\n",
        "print(colours[1:5])\n",
        "colours=(\"pink\",\"blue\",\"yellow\",\"orange\",\"red\",\"grey\")\n",
        "print(colours[:5])"
      ],
      "metadata": {
        "colab": {
          "base_uri": "https://localhost:8080/"
        },
        "id": "nvKSQUtNzomJ",
        "outputId": "8818889c-f7bf-4a77-9640-335a849ac2c7"
      },
      "execution_count": 12,
      "outputs": [
        {
          "output_type": "stream",
          "name": "stdout",
          "text": [
            "('blue', 'yellow', 'orange', 'red')\n",
            "('pink', 'blue', 'yellow', 'orange', 'red')\n"
          ]
        }
      ]
    },
    {
      "cell_type": "markdown",
      "source": [
        "**negative ranging index**"
      ],
      "metadata": {
        "id": "QYiVbCGx1QZj"
      }
    },
    {
      "cell_type": "code",
      "source": [
        "colours=(\"pink\",\"blue\",\"yellow\",\"orange\",\"red\",\"grey\")\n",
        "print(colours[1:-3])\n",
        "colours=(\"pink\",\"blue\",\"yellow\",\"orange\",\"red\",\"grey\")\n",
        "print(colours[:-5])"
      ],
      "metadata": {
        "colab": {
          "base_uri": "https://localhost:8080/"
        },
        "id": "VVxEN8CS1ew8",
        "outputId": "ab094f6a-6cd9-4bda-b604-cfc587801831"
      },
      "execution_count": 16,
      "outputs": [
        {
          "output_type": "stream",
          "name": "stdout",
          "text": [
            "('blue', 'yellow')\n",
            "('pink',)\n"
          ]
        }
      ]
    },
    {
      "cell_type": "markdown",
      "source": [
        "**check if item exist**"
      ],
      "metadata": {
        "id": "pTqNnxai0bUB"
      }
    },
    {
      "cell_type": "code",
      "source": [
        "colours=(\"pink\",\"blue\",\"yellow\",\"orange\",\"red\",\"grey\")\n",
        "if \"blue\" in colours: \n",
        " print(\"yes,blue is in tuple colour\")"
      ],
      "metadata": {
        "colab": {
          "base_uri": "https://localhost:8080/"
        },
        "id": "3LE5BHEZ0hRw",
        "outputId": "01470bf1-e0b9-43c1-c587-d12af713f627"
      },
      "execution_count": 13,
      "outputs": [
        {
          "output_type": "stream",
          "name": "stdout",
          "text": [
            "yes,blue is in tuple colour\n"
          ]
        }
      ]
    },
    {
      "cell_type": "markdown",
      "source": [
        "**change tuple**"
      ],
      "metadata": {
        "id": "RITUcPLe1peS"
      }
    },
    {
      "cell_type": "code",
      "source": [
        "colours=(\"pink\",\"blue\",\"yellow\",\"orange\",\"red\",\"grey\")\n",
        "y=list(colours)\n",
        "y[3]=\"purple\"\n",
        "x=tuple(y)\n",
        "print(x)"
      ],
      "metadata": {
        "colab": {
          "base_uri": "https://localhost:8080/"
        },
        "id": "WGP7S_5w1tDg",
        "outputId": "af09487f-1154-4af7-a8e0-23894e1e8149"
      },
      "execution_count": 20,
      "outputs": [
        {
          "output_type": "stream",
          "name": "stdout",
          "text": [
            "('pink', 'blue', 'yellow', 'purple', 'red', 'grey')\n"
          ]
        }
      ]
    },
    {
      "cell_type": "markdown",
      "source": [
        "**add items**"
      ],
      "metadata": {
        "id": "D0ewfk6e2ajz"
      }
    },
    {
      "cell_type": "code",
      "source": [
        "colours=(\"pink\",\"blue\",\"yellow\",\"orange\",\"red\",\"grey\")\n",
        "y=list(colours)\n",
        "y.append(\"white\")\n",
        "x=tuple(y)\n",
        "print(x)"
      ],
      "metadata": {
        "colab": {
          "base_uri": "https://localhost:8080/"
        },
        "id": "AbW8tT5H2ctg",
        "outputId": "a8e7adab-657c-4d30-b9ba-9b730687d421"
      },
      "execution_count": 21,
      "outputs": [
        {
          "output_type": "stream",
          "name": "stdout",
          "text": [
            "('pink', 'blue', 'yellow', 'orange', 'red', 'grey', 'white')\n"
          ]
        }
      ]
    },
    {
      "cell_type": "markdown",
      "source": [
        "**add tuple to a tuple**"
      ],
      "metadata": {
        "id": "-LPtvavf3FSV"
      }
    },
    {
      "cell_type": "code",
      "source": [
        "colours=(\"pink\",\"blue\",\"yellow\",\"orange\",\"red\",\"grey\")\n",
        "y=(\"white\",)\n",
        "colours+=y\n",
        "print(colours)"
      ],
      "metadata": {
        "colab": {
          "base_uri": "https://localhost:8080/"
        },
        "id": "ItM7yUDN3JdQ",
        "outputId": "ff851aa6-41fb-4731-f70e-58780a0e4941"
      },
      "execution_count": 24,
      "outputs": [
        {
          "output_type": "stream",
          "name": "stdout",
          "text": [
            "('pink', 'blue', 'yellow', 'orange', 'red', 'grey', 'white')\n"
          ]
        }
      ]
    },
    {
      "cell_type": "markdown",
      "source": [
        "**remove items**"
      ],
      "metadata": {
        "id": "sQuMlLv54o-b"
      }
    },
    {
      "cell_type": "code",
      "source": [
        "colours=(\"pink\",\"blue\",\"yellow\",\"orange\",\"red\",\"grey\")\n",
        "y=list(x)\n",
        "y.remove(\"yellow\")\n",
        "colours=tuple(y)\n",
        "print(colours)"
      ],
      "metadata": {
        "colab": {
          "base_uri": "https://localhost:8080/"
        },
        "id": "OdOl_PAg4xV3",
        "outputId": "13d3256d-a9fb-4f25-e9c9-0155408a257a"
      },
      "execution_count": 25,
      "outputs": [
        {
          "output_type": "stream",
          "name": "stdout",
          "text": [
            "('pink', 'blue', 'orange', 'red', 'grey', 'white')\n"
          ]
        }
      ]
    },
    {
      "cell_type": "code",
      "source": [
        "colours=(\"pink\",\"blue\",\"yellow\",\"orange\",\"red\",\"grey\")\n",
        "del colours\n",
        "print(colours)"
      ],
      "metadata": {
        "colab": {
          "base_uri": "https://localhost:8080/",
          "height": 200
        },
        "id": "UHeI9mxN5nf7",
        "outputId": "6229e2bb-5bf4-4826-af64-cd2b528b3947"
      },
      "execution_count": 26,
      "outputs": [
        {
          "output_type": "error",
          "ename": "NameError",
          "evalue": "ignored",
          "traceback": [
            "\u001b[0;31m---------------------------------------------------------------------------\u001b[0m",
            "\u001b[0;31mNameError\u001b[0m                                 Traceback (most recent call last)",
            "\u001b[0;32m<ipython-input-26-cc9a40546c3c>\u001b[0m in \u001b[0;36m<module>\u001b[0;34m()\u001b[0m\n\u001b[1;32m      1\u001b[0m \u001b[0mcolours\u001b[0m\u001b[0;34m=\u001b[0m\u001b[0;34m(\u001b[0m\u001b[0;34m\"pink\"\u001b[0m\u001b[0;34m,\u001b[0m\u001b[0;34m\"blue\"\u001b[0m\u001b[0;34m,\u001b[0m\u001b[0;34m\"yellow\"\u001b[0m\u001b[0;34m,\u001b[0m\u001b[0;34m\"orange\"\u001b[0m\u001b[0;34m,\u001b[0m\u001b[0;34m\"red\"\u001b[0m\u001b[0;34m,\u001b[0m\u001b[0;34m\"grey\"\u001b[0m\u001b[0;34m)\u001b[0m\u001b[0;34m\u001b[0m\u001b[0;34m\u001b[0m\u001b[0m\n\u001b[1;32m      2\u001b[0m \u001b[0;32mdel\u001b[0m \u001b[0mcolours\u001b[0m\u001b[0;34m\u001b[0m\u001b[0;34m\u001b[0m\u001b[0m\n\u001b[0;32m----> 3\u001b[0;31m \u001b[0mprint\u001b[0m\u001b[0;34m(\u001b[0m\u001b[0mcolours\u001b[0m\u001b[0;34m)\u001b[0m\u001b[0;34m\u001b[0m\u001b[0;34m\u001b[0m\u001b[0m\n\u001b[0m",
            "\u001b[0;31mNameError\u001b[0m: name 'colours' is not defined"
          ]
        }
      ]
    },
    {
      "cell_type": "markdown",
      "source": [
        "**unpacking tuple**"
      ],
      "metadata": {
        "id": "POM83Ddx7NB0"
      }
    },
    {
      "cell_type": "code",
      "source": [
        "colours=(\"pink\",\"blue\",\"yellow\")\n",
        "(x,y,z)=colours\n",
        "print(x)\n",
        "print(y)\n",
        "print(z)"
      ],
      "metadata": {
        "colab": {
          "base_uri": "https://localhost:8080/"
        },
        "id": "dkL3nQi57QaB",
        "outputId": "b6e27ae0-25ca-424f-c225-01b367237d13"
      },
      "execution_count": 28,
      "outputs": [
        {
          "output_type": "stream",
          "name": "stdout",
          "text": [
            "pink\n",
            "blue\n",
            "yellow\n"
          ]
        }
      ]
    },
    {
      "cell_type": "markdown",
      "source": [
        "**using asterisk**"
      ],
      "metadata": {
        "id": "wGh1bs6S_CzX"
      }
    },
    {
      "cell_type": "code",
      "source": [
        "colours=(\"pink\",\"blue\",\"yellow\",\"red\",\"black\",\"green\")\n",
        "(x,y,*z)=colours\n",
        "print(x)\n",
        "print(y)\n",
        "print(z)\n",
        "colours=(\"pink\",\"blue\",1,\"red\",\"black\",True)\n",
        "(x,*y,z)=colours\n",
        "print(x)\n",
        "print(y)\n",
        "print(z)"
      ],
      "metadata": {
        "colab": {
          "base_uri": "https://localhost:8080/"
        },
        "id": "gPpbBho6_GaU",
        "outputId": "733df88a-013a-491b-a6ea-4b4169c4dd6a"
      },
      "execution_count": 29,
      "outputs": [
        {
          "output_type": "stream",
          "name": "stdout",
          "text": [
            "pink\n",
            "blue\n",
            "['yellow', 'red', 'black', 'green']\n",
            "pink\n",
            "['blue', 1, 'red', 'black']\n",
            "True\n"
          ]
        }
      ]
    },
    {
      "cell_type": "markdown",
      "source": [
        "**loops through tuple**"
      ],
      "metadata": {
        "id": "4qw8nfblAdYd"
      }
    },
    {
      "cell_type": "code",
      "source": [
        ""
      ],
      "metadata": {
        "id": "Agx4YMgoAjjS"
      },
      "execution_count": null,
      "outputs": []
    }
  ]
}