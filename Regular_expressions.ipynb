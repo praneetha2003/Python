{
  "nbformat": 4,
  "nbformat_minor": 0,
  "metadata": {
    "colab": {
      "name": "Regular expressions.ipynb",
      "provenance": [],
      "collapsed_sections": [],
      "authorship_tag": "ABX9TyNGGoI4mDK3zLyI0vO3lRlF",
      "include_colab_link": true
    },
    "kernelspec": {
      "name": "python3",
      "display_name": "Python 3"
    },
    "language_info": {
      "name": "python"
    }
  },
  "cells": [
    {
      "cell_type": "markdown",
      "metadata": {
        "id": "view-in-github",
        "colab_type": "text"
      },
      "source": [
        "<a href=\"https://colab.research.google.com/github/praneetha2003/Python/blob/main/Regular_expressions.ipynb\" target=\"_parent\"><img src=\"https://colab.research.google.com/assets/colab-badge.svg\" alt=\"Open In Colab\"/></a>"
      ]
    },
    {
      "cell_type": "code",
      "source": [
        "import re \n",
        "text=(\"hi helloo how are you\")\n",
        "x=re.search(\"^The.*hello$\",text)\n",
        "if x:\n",
        "  print(\"yes! we have match\")\n",
        "else:\n",
        "    (\"no match\")"
      ],
      "metadata": {
        "id": "v4_70szKKoAy"
      },
      "execution_count": 7,
      "outputs": []
    },
    {
      "cell_type": "markdown",
      "source": [
        "**Metacharacters**"
      ],
      "metadata": {
        "id": "wT_W9c4bOjnK"
      }
    },
    {
      "cell_type": "markdown",
      "source": [
        "**A set of characters**"
      ],
      "metadata": {
        "id": "mG5ijMHjNXof"
      }
    },
    {
      "cell_type": "code",
      "source": [
        "import re\n",
        "text=(\"Rain is liquid water in the form of droplets that have condensed from atmospheric water vapor and then become heavy enough to fall under gravity\")\n",
        "x = re.findall(\"[a-m]\", text)\n",
        "print(x)\n"
      ],
      "metadata": {
        "colab": {
          "base_uri": "https://localhost:8080/"
        },
        "id": "F92m_CxONDcj",
        "outputId": "49c7e4eb-75ea-45dd-ffca-709238a1221b"
      },
      "execution_count": 8,
      "outputs": [
        {
          "output_type": "stream",
          "name": "stdout",
          "text": [
            "['a', 'i', 'i', 'l', 'i', 'i', 'd', 'a', 'e', 'i', 'h', 'e', 'f', 'm', 'f', 'd', 'l', 'e', 'h', 'a', 'h', 'a', 'e', 'c', 'd', 'e', 'e', 'd', 'f', 'm', 'a', 'm', 'h', 'e', 'i', 'c', 'a', 'e', 'a', 'a', 'd', 'h', 'e', 'b', 'e', 'c', 'm', 'e', 'h', 'e', 'a', 'e', 'g', 'h', 'f', 'a', 'l', 'l', 'd', 'e', 'g', 'a', 'i']\n"
          ]
        }
      ]
    },
    {
      "cell_type": "markdown",
      "source": [
        "**Signals a special sequence**"
      ],
      "metadata": {
        "id": "iPXjfRyiNdfO"
      }
    },
    {
      "cell_type": "code",
      "source": [
        "import re\n",
        "text=(\"Rain is liquid water in the form of droplets that have condensed from atmospheric water vapor and then become heavy enough to fall under gravity of 0.98\")\n",
        "x = re.findall(\"\\d\", text)\n",
        "print(x)\n"
      ],
      "metadata": {
        "colab": {
          "base_uri": "https://localhost:8080/"
        },
        "id": "3IcKs0APNiI5",
        "outputId": "893900e2-506a-4892-8ceb-404c3d4ae810"
      },
      "execution_count": 10,
      "outputs": [
        {
          "output_type": "stream",
          "name": "stdout",
          "text": [
            "['0', '9', '8']\n"
          ]
        }
      ]
    },
    {
      "cell_type": "markdown",
      "source": [
        "**Any character**"
      ],
      "metadata": {
        "id": "TmUUO9AaN7sS"
      }
    },
    {
      "cell_type": "code",
      "source": [
        "import re\n",
        "text=(\"Rain is liquid water in the form of droplets that have condensed from atmospheric water vapor and then become heavy enough to fall under gravity\")\n",
        "x = re.findall(\"liq...\", text)\n",
        "print(x)\n"
      ],
      "metadata": {
        "colab": {
          "base_uri": "https://localhost:8080/"
        },
        "id": "50KrxVnXN9v_",
        "outputId": "84e8e5eb-4fcb-41c6-91ce-4151787796c8"
      },
      "execution_count": 12,
      "outputs": [
        {
          "output_type": "stream",
          "name": "stdout",
          "text": [
            "['liquid']\n"
          ]
        }
      ]
    },
    {
      "cell_type": "markdown",
      "source": [
        "**Starts with**"
      ],
      "metadata": {
        "id": "jWAh5_TxOqi1"
      }
    },
    {
      "cell_type": "code",
      "source": [
        "import re\n",
        "text=(\"Rain is liquid water in the form of droplets that have condensed from atmospheric water vapor and then become heavy enough to fall under gravity\")\n",
        "\n",
        "x = re.findall(\"^Rain\", text)\n",
        "if x:\n",
        "  print(\"Yes, the string starts with 'Rain'\")\n",
        "else:\n",
        "  print(\"No match\")\n"
      ],
      "metadata": {
        "colab": {
          "base_uri": "https://localhost:8080/"
        },
        "id": "tj89taMaOtyw",
        "outputId": "875161b6-5b5b-4d5b-c5fa-6f241333a54b"
      },
      "execution_count": 15,
      "outputs": [
        {
          "output_type": "stream",
          "name": "stdout",
          "text": [
            "Yes, the string starts with 'Rain'\n"
          ]
        }
      ]
    },
    {
      "cell_type": "markdown",
      "source": [
        "**Ends with**"
      ],
      "metadata": {
        "id": "igtZohNXPcw7"
      }
    },
    {
      "cell_type": "code",
      "source": [
        "import re\n",
        "text=(\"Rain is liquid water in the form of droplets that have condensed from atmospheric water vapor and then become heavy enough to fall under gravity\")\n",
        "\n",
        "x = re.findall(\"gravity$\", text)\n",
        "if x:\n",
        "  print(\"Yes, the string ends with 'gravity'\")\n",
        "else:\n",
        "  print(\"No match\")\n"
      ],
      "metadata": {
        "colab": {
          "base_uri": "https://localhost:8080/"
        },
        "id": "ZkWkV5TlPf7_",
        "outputId": "40edc687-038b-4ecc-bee6-4534f85b6b5d"
      },
      "execution_count": 17,
      "outputs": [
        {
          "output_type": "stream",
          "name": "stdout",
          "text": [
            "Yes, the string ends with 'gravity'\n"
          ]
        }
      ]
    },
    {
      "cell_type": "markdown",
      "source": [
        "**Zero or more occurrences**"
      ],
      "metadata": {
        "id": "MjVRwUFTP5u7"
      }
    },
    {
      "cell_type": "code",
      "source": [
        "import re\n",
        "text=(\"Rain is liquid water in the form of droplets that have condensed from atmospheric water vapor and then become heavy enough to fall under gravity\")\n",
        "x = re.findall(\"dr.*o\", text)\n",
        "\n",
        "print(x)\n"
      ],
      "metadata": {
        "colab": {
          "base_uri": "https://localhost:8080/"
        },
        "id": "-mUCicP9P9Dx",
        "outputId": "9318cc60-a052-493a-a217-db11e3357cd5"
      },
      "execution_count": 24,
      "outputs": [
        {
          "output_type": "stream",
          "name": "stdout",
          "text": [
            "['droplets that have condensed from atmospheric water vapor and then become heavy enough to']\n"
          ]
        }
      ]
    },
    {
      "cell_type": "markdown",
      "source": [
        "**One or more occurrences**"
      ],
      "metadata": {
        "id": "O1m-wVYxQYXz"
      }
    },
    {
      "cell_type": "code",
      "source": [
        "import re\n",
        "text=(\"Rain is liquid water in the form of droplets that have condensed from atmospheric water vapor and then become heavy enough to fall under gravity\")\n",
        "x = re.findall(\"li.+o\", text)\n",
        "\n",
        "print(x)\n"
      ],
      "metadata": {
        "colab": {
          "base_uri": "https://localhost:8080/"
        },
        "id": "tPRHWUCpQbdA",
        "outputId": "9cade54e-b7b8-41e7-94aa-b8df4832dc60"
      },
      "execution_count": 19,
      "outputs": [
        {
          "output_type": "stream",
          "name": "stdout",
          "text": [
            "['liquid water in the form of droplets that have condensed from atmospheric water vapor and then become heavy enough to']\n"
          ]
        }
      ]
    },
    {
      "cell_type": "markdown",
      "source": [
        "**Zero or one occurrences**"
      ],
      "metadata": {
        "id": "6U2mVCkaQ2zS"
      }
    },
    {
      "cell_type": "code",
      "source": [
        "import re\n",
        "text=(\"Rain is liquid water in the form of droplets that have condensed from atmospheric water vapor and then become heavy enough to fall under gravity\")\n",
        "\n",
        "x = re.findall(\"co.?o\", text)\n",
        "\n",
        "print(x)\n"
      ],
      "metadata": {
        "colab": {
          "base_uri": "https://localhost:8080/"
        },
        "id": "Flv5_775Q6eQ",
        "outputId": "4d0fb50e-1a84-4fdb-d4fe-2301e4e8b3a4"
      },
      "execution_count": 23,
      "outputs": [
        {
          "output_type": "stream",
          "name": "stdout",
          "text": [
            "[]\n"
          ]
        }
      ]
    },
    {
      "cell_type": "markdown",
      "source": [
        "**Exactly the specified number of occurrences**"
      ],
      "metadata": {
        "id": "v5GmQgR7Ranb"
      }
    },
    {
      "cell_type": "code",
      "source": [
        "import re\n",
        "text=(\"Rain is liquid water in the form of droplets that have condensed from atmospheric water vapor and then become heavy enough to fall under gravity\")\n",
        "x = re.findall(\"Ra.{3}\", text)\n",
        "\n",
        "print(x)\n"
      ],
      "metadata": {
        "colab": {
          "base_uri": "https://localhost:8080/"
        },
        "id": "s8L6QAlpRf-h",
        "outputId": "b262562a-3a93-451f-cdf3-4a9477613a44"
      },
      "execution_count": 35,
      "outputs": [
        {
          "output_type": "stream",
          "name": "stdout",
          "text": [
            "['Rain ']\n"
          ]
        }
      ]
    },
    {
      "cell_type": "markdown",
      "source": [
        "**Either or**"
      ],
      "metadata": {
        "id": "alA6TNVuSov7"
      }
    },
    {
      "cell_type": "code",
      "source": [
        "import re\n",
        "text=(\"Rain is liquid water in the form of droplets that have condensed from atmospheric water vapor and then become heavy enough to fall under gravity\")\n",
        "x = re.findall(\"liquid|water\", text)\n",
        "\n",
        "print(x)\n",
        "\n",
        "if x:\n",
        "  print(\"Yes, there is at least one match!\")\n",
        "else:\n",
        "  print(\"No match\")\n"
      ],
      "metadata": {
        "colab": {
          "base_uri": "https://localhost:8080/"
        },
        "id": "2cAmBRveSsnB",
        "outputId": "88485f81-da9c-4a90-efc2-5902cfdc2670"
      },
      "execution_count": 36,
      "outputs": [
        {
          "output_type": "stream",
          "name": "stdout",
          "text": [
            "['liquid', 'water', 'water']\n",
            "Yes, there is at least one match!\n"
          ]
        }
      ]
    }
  ]
}