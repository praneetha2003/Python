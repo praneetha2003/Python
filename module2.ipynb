{
  "nbformat": 4,
  "nbformat_minor": 0,
  "metadata": {
    "colab": {
      "name": "module2.ipynb",
      "provenance": [],
      "authorship_tag": "ABX9TyO2eATqRCepo1B1G+YXWf+5",
      "include_colab_link": true
    },
    "kernelspec": {
      "name": "python3",
      "display_name": "Python 3"
    },
    "language_info": {
      "name": "python"
    }
  },
  "cells": [
    {
      "cell_type": "markdown",
      "metadata": {
        "id": "view-in-github",
        "colab_type": "text"
      },
      "source": [
        "<a href=\"https://colab.research.google.com/github/praneetha2003/Python/blob/main/module2.ipynb\" target=\"_parent\"><img src=\"https://colab.research.google.com/assets/colab-badge.svg\" alt=\"Open In Colab\"/></a>"
      ]
    },
    {
      "cell_type": "markdown",
      "source": [
        "**Module 2**"
      ],
      "metadata": {
        "id": "yNLHSB3dpja_"
      }
    },
    {
      "cell_type": "markdown",
      "source": [
        "**create a function which accepts two inputs from the user and compute nCr**"
      ],
      "metadata": {
        "id": "t30Q9aFnpoId"
      }
    },
    {
      "cell_type": "code",
      "source": [
        "def nCr(n,r):\n",
        "  return(fact(n)/(fact(r)*fact(n-r)))\n",
        "def fact(n):\n",
        "  res=1\n",
        "  for i in range(2,n+1):\n",
        "    res=res*1\n",
        "  return res\n",
        "n=(int(input(\"Enter the value of n= \")))\n",
        "r=(int(input(\"Enter the value of r= \")))\n",
        "print(int(nCr(n,r)))"
      ],
      "metadata": {
        "colab": {
          "base_uri": "https://localhost:8080/"
        },
        "id": "HtYac1tOrtzF",
        "outputId": "a2680f17-7b29-47d6-e6fb-543b7a665cc6"
      },
      "execution_count": 10,
      "outputs": [
        {
          "output_type": "stream",
          "name": "stdout",
          "text": [
            "Enter the value of n= 6\n",
            "Enter the value of r= 3\n",
            "1\n"
          ]
        }
      ]
    }
  ]
}