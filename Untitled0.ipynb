{
  "nbformat": 4,
  "nbformat_minor": 0,
  "metadata": {
    "colab": {
      "name": "Untitled0.ipynb",
      "provenance": [],
      "authorship_tag": "ABX9TyPF3jV2QEPfY5IOtclAV88q",
      "include_colab_link": true
    },
    "kernelspec": {
      "name": "python3",
      "display_name": "Python 3"
    },
    "language_info": {
      "name": "python"
    }
  },
  "cells": [
    {
      "cell_type": "markdown",
      "metadata": {
        "id": "view-in-github",
        "colab_type": "text"
      },
      "source": [
        "<a href=\"https://colab.research.google.com/github/praneetha2003/Python/blob/main/Untitled0.ipynb\" target=\"_parent\"><img src=\"https://colab.research.google.com/assets/colab-badge.svg\" alt=\"Open In Colab\"/></a>"
      ]
    },
    {
      "cell_type": "code",
      "execution_count": 2,
      "metadata": {
        "colab": {
          "base_uri": "https://localhost:8080/"
        },
        "id": "APZrCW8IWsz4",
        "outputId": "ef204870-578d-4aa5-aa18-7e3ab3c36edb"
      },
      "outputs": [
        {
          "output_type": "stream",
          "name": "stdout",
          "text": [
            "apple\n"
          ]
        }
      ],
      "source": [
        "fruit=[\"apple\",\"orange\"]\n",
        "print(fruit[0])"
      ]
    },
    {
      "cell_type": "code",
      "source": [
        "fruit=[\"apple\",\"orange\"]\n",
        "print(fruit[-1])"
      ],
      "metadata": {
        "colab": {
          "base_uri": "https://localhost:8080/"
        },
        "id": "5oJiG4Z3YK0d",
        "outputId": "822a8435-310f-4c0e-ef0d-9b5e68dc3dc9"
      },
      "execution_count": 3,
      "outputs": [
        {
          "output_type": "stream",
          "name": "stdout",
          "text": [
            "orange\n"
          ]
        }
      ]
    },
    {
      "cell_type": "code",
      "source": [
        "fruit=[\"apple\",\"orange\",\"mango\"]\n",
        "print(fruit)\n",
        "print(fruit[0:2])\n",
        "print(fruit[:2])\n",
        "print(fruit[1:2])\n",
        "print(fruit[1:])"
      ],
      "metadata": {
        "colab": {
          "base_uri": "https://localhost:8080/"
        },
        "id": "LFKEYtlVYakg",
        "outputId": "c851e0a6-4c69-493e-abbe-57634b0259fc"
      },
      "execution_count": 5,
      "outputs": [
        {
          "output_type": "stream",
          "name": "stdout",
          "text": [
            "['apple', 'orange', 'mango']\n",
            "['apple', 'orange']\n",
            "['apple', 'orange']\n",
            "['orange']\n",
            "['orange', 'mango']\n"
          ]
        }
      ]
    },
    {
      "cell_type": "markdown",
      "source": [
        "APPEND"
      ],
      "metadata": {
        "id": "NvJQ8GKMZ_ZQ"
      }
    },
    {
      "cell_type": "code",
      "source": [
        "fruit=[\"apple\",\"orange\",\"mango\",\"banana\"]\n",
        "print(fruit)\n",
        "fruit.append(\"jackfruit\")\n",
        "print(fruit)\n",
        "fruit.insert(2,\"kiwi\")\n",
        "print(fruit)\n"
      ],
      "metadata": {
        "colab": {
          "base_uri": "https://localhost:8080/"
        },
        "id": "yRiRFaLnaKD2",
        "outputId": "19cad36d-3538-4505-e328-81519080ab86"
      },
      "execution_count": 7,
      "outputs": [
        {
          "output_type": "stream",
          "name": "stdout",
          "text": [
            "['apple', 'orange', 'mango', 'banana']\n",
            "['apple', 'orange', 'mango', 'banana', 'jackfruit']\n",
            "['apple', 'orange', 'kiwi', 'mango', 'banana', 'jackfruit']\n"
          ]
        }
      ]
    },
    {
      "cell_type": "markdown",
      "source": [
        "Remove an item"
      ],
      "metadata": {
        "id": "7I-o50nwdE7o"
      }
    },
    {
      "cell_type": "code",
      "source": [
        "fruit=[\"apple\",\"orange\",\"mango\",\"banana\"]\n",
        "fruit.remove(\"banana\")\n",
        "print(fruit)\n"
      ],
      "metadata": {
        "colab": {
          "base_uri": "https://localhost:8080/"
        },
        "id": "OUlcipcWdMGP",
        "outputId": "6bf3e787-d2cc-4030-ca30-ea4b348d66fb"
      },
      "execution_count": 10,
      "outputs": [
        {
          "output_type": "stream",
          "name": "stdout",
          "text": [
            "['apple', 'orange', 'mango']\n"
          ]
        }
      ]
    },
    {
      "cell_type": "markdown",
      "source": [
        "Remove a specified item  using pop"
      ],
      "metadata": {
        "id": "uCFeU2PTfKtI"
      }
    },
    {
      "cell_type": "code",
      "source": [
        "fruit=[\"apple\",\"orange\",\"mango\",\"banana\"]\n",
        "print(fruit)\n",
        "fruit.pop(1)\n",
        "print(fruit)"
      ],
      "metadata": {
        "colab": {
          "base_uri": "https://localhost:8080/"
        },
        "id": "3qvdPknZfSgO",
        "outputId": "42d2d269-dc48-4307-f640-6f9e97634eea"
      },
      "execution_count": 11,
      "outputs": [
        {
          "output_type": "stream",
          "name": "stdout",
          "text": [
            "['apple', 'orange', 'mango', 'banana']\n",
            "['apple', 'mango', 'banana']\n"
          ]
        }
      ]
    },
    {
      "cell_type": "markdown",
      "source": [
        "Sorting list ASCENDING ORDER"
      ],
      "metadata": {
        "id": "Nm72cKobhu4H"
      }
    },
    {
      "cell_type": "code",
      "source": [
        "num=[1,3,5]\n",
        "num.sort()\n",
        "print(num)"
      ],
      "metadata": {
        "colab": {
          "base_uri": "https://localhost:8080/"
        },
        "id": "e6zpIcf0h2xu",
        "outputId": "903c6e10-8afe-42e1-c96d-3f8395e55ef9"
      },
      "execution_count": 13,
      "outputs": [
        {
          "output_type": "stream",
          "name": "stdout",
          "text": [
            "[1, 3, 5]\n"
          ]
        }
      ]
    },
    {
      "cell_type": "markdown",
      "source": [
        "Decending order"
      ],
      "metadata": {
        "id": "pBx8o5i9imen"
      }
    },
    {
      "cell_type": "code",
      "source": [
        "num=[1,3,5]\n",
        "num.sort(reverse=True)\n",
        "print(num)"
      ],
      "metadata": {
        "colab": {
          "base_uri": "https://localhost:8080/"
        },
        "id": "rsNB6Oe1irNv",
        "outputId": "6b986935-d612-4cc1-cc2e-376579e88e5d"
      },
      "execution_count": 15,
      "outputs": [
        {
          "output_type": "stream",
          "name": "stdout",
          "text": [
            "[5, 3, 1]\n"
          ]
        }
      ]
    },
    {
      "cell_type": "markdown",
      "source": [
        "Sorting alphabetically"
      ],
      "metadata": {
        "id": "Nr0tCdztjpmB"
      }
    },
    {
      "cell_type": "code",
      "source": [
        "fruit=[\"apple\",\"orange\",\"mango\",\"banana\"]\n",
        "fruit.sort()\n",
        "print(fruit)"
      ],
      "metadata": {
        "colab": {
          "base_uri": "https://localhost:8080/"
        },
        "id": "i2FFuyA5juH-",
        "outputId": "a04990a9-d9b0-4f4d-b424-3c03b30fa6d9"
      },
      "execution_count": 16,
      "outputs": [
        {
          "output_type": "stream",
          "name": "stdout",
          "text": [
            "['apple', 'banana', 'mango', 'orange']\n"
          ]
        }
      ]
    },
    {
      "cell_type": "markdown",
      "source": [
        "Length"
      ],
      "metadata": {
        "id": "48e_jfZFmhUQ"
      }
    },
    {
      "cell_type": "code",
      "source": [
        "fruit=[\"apple\",\"orange\",\"mango\",\"banana\"]\n",
        "print(len(fruit))"
      ],
      "metadata": {
        "colab": {
          "base_uri": "https://localhost:8080/"
        },
        "id": "apABJawgmtsu",
        "outputId": "4690d711-735b-40a6-cbc8-5e592ece9720"
      },
      "execution_count": 17,
      "outputs": [
        {
          "output_type": "stream",
          "name": "stdout",
          "text": [
            "4\n"
          ]
        }
      ]
    }
  ]
}